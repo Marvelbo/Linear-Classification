{
  "nbformat": 4,
  "nbformat_minor": 0,
  "metadata": {
    "colab": {
      "name": "miniProject1_group34.ipynb",
      "provenance": []
    },
    "kernelspec": {
      "name": "python3",
      "display_name": "Python 3"
    }
  },
  "cells": [
    {
      "cell_type": "code",
      "metadata": {
        "id": "gI7QGdhvtmyn",
        "colab_type": "code",
        "colab": {}
      },
      "source": [
        "# author: Ningbo\n",
        "# 2019-09-27\n",
        "import data_processing\n",
        "import project1_utilities as util\n",
        "from project1_utilities import np \n",
        "import time\n"
      ],
      "execution_count": 0,
      "outputs": []
    },
    {
      "cell_type": "code",
      "metadata": {
        "id": "xqIbAKltZJIf",
        "colab_type": "code",
        "colab": {}
      },
      "source": [
        "# k-fold cross validation\n",
        "def k_fold(k, data_x, data_y, x_test, y_test, method,flag):\n",
        "    fold_len = int(len(data_y) / k)\n",
        "    accuracy = np.zeros(k)\n",
        "    for i in range(k):\n",
        "        # print(i)\n",
        "        trainx = np.delete(data_x, slice(i * fold_len, (i + 1) * fold_len), axis=0)\n",
        "        trainy = np.delete(data_y, slice(i * fold_len, (i + 1) * fold_len), axis=0)\n",
        "        if i < k:\n",
        "            valx, valy = data_x[i * fold_len:(i + 1) * fold_len], data_y[i * fold_len:(i + 1) * fold_len]\n",
        "        else:\n",
        "            valx, valy = data_x[i * fold_len:-1], data_y[i * fold_len:-1]\n",
        "        if method == 1:\n",
        "        # train % validation  LDA\n",
        "            model = util.LDA_classification()\n",
        "            model.fit_lda(trainx, trainy)\n",
        "            accuracy[i] = model.evaluate_acc(valx, valy)\n",
        "        else:\n",
        "        # train & validation  Logistic Regression\n",
        "            model = util.Log_Model()\n",
        "            model.fit_log(trainx, trainy)\n",
        "            accuracy[i] = model.evaluate_acc(valx, valy)\n",
        "         \n",
        "    print(accuracy)\n",
        "    average_acc = sum(accuracy) / k\n",
        "    print(average_acc)\n",
        "    if flag == 1:\n",
        "        print('testing results:')\n",
        "        start_time = time.time()\n",
        "        test_acc = model.testing(x_test, y_test)\n",
        "        print('Time Elapsed: %f seconds' % (time.time() - start_time))\n",
        "        print(test_acc)\n",
        "    return average_acc\n",
        "\n"
      ],
      "execution_count": 0,
      "outputs": []
    },
    {
      "cell_type": "code",
      "metadata": {
        "id": "95MhgHouZh-3",
        "colab_type": "code",
        "colab": {}
      },
      "source": [
        "# red-wine data\n",
        "X1_lda, Y1 = data_processing.LoadData1('winequality-red.csv')\n",
        "#X1_lda = data_processing.add_inters(X1_lda, 1, 5 )  \n",
        "# X1_lda = data_processing.remove(X1_lda, 4)\n",
        "X1_log = data_processing.dummy_feature(X1_lda)\n",
        "\n",
        "X1_lda_train, Y1_lda_train, X1_lda_test, Y1_lda_test = data_processing.split_train_test(X1_lda, Y1)\n",
        "X1_log_train, Y1_log_train, X1_log_test, Y1_log_test = data_processing.split_train_test(X1_log, Y1)\n",
        "\n",
        "print('LDA model for read wine data:')\n",
        "k_fold(5, X1_lda_train, Y1_lda_train, X1_lda_test, Y1_lda_test, 1, 1)\n",
        "print('Logistic Regression model for read wine data')\n",
        "k_fold(5, X1_log_train, Y1_log_train, X1_log_test, Y1_log_test, 0, 1)\n",
        "\n",
        "\n",
        "# # breast data\n",
        "# X2_lda, Y2 = data_processing.LoadData2('breast-cancer-wisconsin.data')\n",
        "# # # X2_lda = add_inters(X2_lda, 1, 5 ) # 1&5\n",
        "# # # X2_lda = remove(X2_lda, 4)\n",
        "# X2_log= data_processing.dummy_feature(X2_lda)\n",
        "# # #\n",
        "# X2_lda_train, Y2_lda_train, X2_lda_test, Y2_lda_test = data_processing.split_train_test(X2_lda, Y2)\n",
        "# X2_log_train, Y2_log_train, X2_log_test, Y2_log_test = data_processing.split_train_test(X2_log, Y2)\n",
        "# print('LDA model for brest cancer data:')\n",
        "# k_fold(5, X2_lda_train, Y2_lda_train, X2_lda_test, Y2_lda_test, 1, 1)\n",
        "# the log regression model in the project1_utilities is set for red wine data\n",
        "# # print('Logistic Regression model for brest cancer data:')\n",
        "# # k_fold(5, X2_log_train, Y2_log_train, X2_log_test, Y2_log_test, 0, 1)\n"
      ],
      "execution_count": 0,
      "outputs": []
    }
  ]
}